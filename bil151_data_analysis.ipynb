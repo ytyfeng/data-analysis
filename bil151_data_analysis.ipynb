{
  "nbformat": 4,
  "nbformat_minor": 0,
  "metadata": {
    "colab": {
      "name": "bil151_data_analysis.ipynb",
      "provenance": [],
      "collapsed_sections": [],
      "include_colab_link": true
    },
    "kernelspec": {
      "name": "python3",
      "display_name": "Python 3"
    }
  },
  "cells": [
    {
      "cell_type": "markdown",
      "metadata": {
        "id": "view-in-github",
        "colab_type": "text"
      },
      "source": [
        "<a href=\"https://colab.research.google.com/github/ytyfeng/data-analysis/blob/master/bil151_data_analysis.ipynb\" target=\"_parent\"><img src=\"https://colab.research.google.com/assets/colab-badge.svg\" alt=\"Open In Colab\"/></a>"
      ]
    },
    {
      "cell_type": "markdown",
      "metadata": {
        "id": "_obzGRkrvPio",
        "colab_type": "text"
      },
      "source": [
        "# Data Analysis for Biology Lab (BIL 151)\n",
        "### Using Python to automate Mann-Whitney U Ranked Test, T-Test, and data visualization"
      ]
    },
    {
      "cell_type": "code",
      "metadata": {
        "id": "So_Fr6DJwuiw",
        "colab_type": "code",
        "colab": {}
      },
      "source": [
        "# Import libraries we need\n",
        "\n",
        "import numpy as np\n",
        "from scipy import stats\n",
        "import pandas as pd\n",
        "\n",
        "from google.colab import files"
      ],
      "execution_count": 0,
      "outputs": []
    },
    {
      "cell_type": "code",
      "metadata": {
        "id": "oQ6D3hZvxOgv",
        "colab_type": "code",
        "outputId": "9f342974-da5a-477e-d106-d6d0d28d7a69",
        "colab": {
          "resources": {
            "http://localhost:8080/nbextensions/google.colab/files.js": {
              "data": "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",
              "ok": true,
              "headers": [
                [
                  "content-type",
                  "application/javascript"
                ]
              ],
              "status": 200,
              "status_text": ""
            }
          },
          "base_uri": "https://localhost:8080/",
          "height": 71
        }
      },
      "source": [
        "uploaded = files.upload() # upload your data as a .csv file named bil151data.csv here "
      ],
      "execution_count": 0,
      "outputs": [
        {
          "output_type": "display_data",
          "data": {
            "text/html": [
              "\n",
              "     <input type=\"file\" id=\"files-4f4c3f9c-a665-4a4b-87d0-a57c196c4062\" name=\"files[]\" multiple disabled />\n",
              "     <output id=\"result-4f4c3f9c-a665-4a4b-87d0-a57c196c4062\">\n",
              "      Upload widget is only available when the cell has been executed in the\n",
              "      current browser session. Please rerun this cell to enable.\n",
              "      </output>\n",
              "      <script src=\"/nbextensions/google.colab/files.js\"></script> "
            ],
            "text/plain": [
              "<IPython.core.display.HTML object>"
            ]
          },
          "metadata": {
            "tags": []
          }
        },
        {
          "output_type": "stream",
          "text": [
            "Saving bil151data.csv to bil151data (1).csv\n"
          ],
          "name": "stdout"
        }
      ]
    },
    {
      "cell_type": "markdown",
      "metadata": {
        "id": "-4G7AOsCd-Wz",
        "colab_type": "text"
      },
      "source": [
        "Sample data: http://web.cs.miami.edu/home/yfen317/bil151data.csv   \n",
        "(or https://github.com/ytyfeng/data-analysis/blob/master/bil151data.csv)  \n",
        "To run it with my data, simply download the csv file from above and upload it. \n"
      ]
    },
    {
      "cell_type": "code",
      "metadata": {
        "id": "Ni-GG894xSAF",
        "colab_type": "code",
        "outputId": "c1f37551-7a6d-467c-8920-3c14fbef67b9",
        "colab": {
          "base_uri": "https://localhost:8080/",
          "height": 359
        }
      },
      "source": [
        "import io\n",
        "data = pd.read_csv(io.BytesIO(uploaded['bil151data.csv'])) # Make sure the filename you uploaded is bil151data.csv!\n",
        "data # prints the data"
      ],
      "execution_count": 0,
      "outputs": [
        {
          "output_type": "execute_result",
          "data": {
            "text/html": [
              "<div>\n",
              "<style scoped>\n",
              "    .dataframe tbody tr th:only-of-type {\n",
              "        vertical-align: middle;\n",
              "    }\n",
              "\n",
              "    .dataframe tbody tr th {\n",
              "        vertical-align: top;\n",
              "    }\n",
              "\n",
              "    .dataframe thead th {\n",
              "        text-align: right;\n",
              "    }\n",
              "</style>\n",
              "<table border=\"1\" class=\"dataframe\">\n",
              "  <thead>\n",
              "    <tr style=\"text-align: right;\">\n",
              "      <th></th>\n",
              "      <th>T</th>\n",
              "      <th>C</th>\n",
              "    </tr>\n",
              "  </thead>\n",
              "  <tbody>\n",
              "    <tr>\n",
              "      <th>0</th>\n",
              "      <td>21.0105</td>\n",
              "      <td>23.289</td>\n",
              "    </tr>\n",
              "    <tr>\n",
              "      <th>1</th>\n",
              "      <td>20.8355</td>\n",
              "      <td>64.435</td>\n",
              "    </tr>\n",
              "    <tr>\n",
              "      <th>2</th>\n",
              "      <td>45.0100</td>\n",
              "      <td>51.135</td>\n",
              "    </tr>\n",
              "    <tr>\n",
              "      <th>3</th>\n",
              "      <td>44.8350</td>\n",
              "      <td>45.535</td>\n",
              "    </tr>\n",
              "    <tr>\n",
              "      <th>4</th>\n",
              "      <td>39.5850</td>\n",
              "      <td>36.400</td>\n",
              "    </tr>\n",
              "    <tr>\n",
              "      <th>5</th>\n",
              "      <td>12.4110</td>\n",
              "      <td>25.732</td>\n",
              "    </tr>\n",
              "    <tr>\n",
              "      <th>6</th>\n",
              "      <td>17.8675</td>\n",
              "      <td>25.690</td>\n",
              "    </tr>\n",
              "    <tr>\n",
              "      <th>7</th>\n",
              "      <td>21.5950</td>\n",
              "      <td>71.365</td>\n",
              "    </tr>\n",
              "    <tr>\n",
              "      <th>8</th>\n",
              "      <td>20.1040</td>\n",
              "      <td>65.730</td>\n",
              "    </tr>\n",
              "    <tr>\n",
              "      <th>9</th>\n",
              "      <td>33.3025</td>\n",
              "      <td>44.415</td>\n",
              "    </tr>\n",
              "  </tbody>\n",
              "</table>\n",
              "</div>"
            ],
            "text/plain": [
              "         T       C\n",
              "0  21.0105  23.289\n",
              "1  20.8355  64.435\n",
              "2  45.0100  51.135\n",
              "3  44.8350  45.535\n",
              "4  39.5850  36.400\n",
              "5  12.4110  25.732\n",
              "6  17.8675  25.690\n",
              "7  21.5950  71.365\n",
              "8  20.1040  65.730\n",
              "9  33.3025  44.415"
            ]
          },
          "metadata": {
            "tags": []
          },
          "execution_count": 27
        }
      ]
    },
    {
      "cell_type": "markdown",
      "metadata": {
        "id": "5BCamzJdA56R",
        "colab_type": "text"
      },
      "source": [
        "### Basic Statistics"
      ]
    },
    {
      "cell_type": "code",
      "metadata": {
        "id": "yxCPZavTxT4p",
        "colab_type": "code",
        "outputId": "b5b5f2aa-f5d4-472c-c502-47d47d9b8295",
        "colab": {
          "base_uri": "https://localhost:8080/",
          "height": 297
        }
      },
      "source": [
        "data.describe()"
      ],
      "execution_count": 0,
      "outputs": [
        {
          "output_type": "execute_result",
          "data": {
            "text/html": [
              "<div>\n",
              "<style scoped>\n",
              "    .dataframe tbody tr th:only-of-type {\n",
              "        vertical-align: middle;\n",
              "    }\n",
              "\n",
              "    .dataframe tbody tr th {\n",
              "        vertical-align: top;\n",
              "    }\n",
              "\n",
              "    .dataframe thead th {\n",
              "        text-align: right;\n",
              "    }\n",
              "</style>\n",
              "<table border=\"1\" class=\"dataframe\">\n",
              "  <thead>\n",
              "    <tr style=\"text-align: right;\">\n",
              "      <th></th>\n",
              "      <th>T</th>\n",
              "      <th>C</th>\n",
              "    </tr>\n",
              "  </thead>\n",
              "  <tbody>\n",
              "    <tr>\n",
              "      <th>count</th>\n",
              "      <td>10.000000</td>\n",
              "      <td>10.000000</td>\n",
              "    </tr>\n",
              "    <tr>\n",
              "      <th>mean</th>\n",
              "      <td>27.655600</td>\n",
              "      <td>45.372600</td>\n",
              "    </tr>\n",
              "    <tr>\n",
              "      <th>std</th>\n",
              "      <td>11.940307</td>\n",
              "      <td>17.729145</td>\n",
              "    </tr>\n",
              "    <tr>\n",
              "      <th>min</th>\n",
              "      <td>12.411000</td>\n",
              "      <td>23.289000</td>\n",
              "    </tr>\n",
              "    <tr>\n",
              "      <th>25%</th>\n",
              "      <td>20.286875</td>\n",
              "      <td>28.399000</td>\n",
              "    </tr>\n",
              "    <tr>\n",
              "      <th>50%</th>\n",
              "      <td>21.302750</td>\n",
              "      <td>44.975000</td>\n",
              "    </tr>\n",
              "    <tr>\n",
              "      <th>75%</th>\n",
              "      <td>38.014375</td>\n",
              "      <td>61.110000</td>\n",
              "    </tr>\n",
              "    <tr>\n",
              "      <th>max</th>\n",
              "      <td>45.010000</td>\n",
              "      <td>71.365000</td>\n",
              "    </tr>\n",
              "  </tbody>\n",
              "</table>\n",
              "</div>"
            ],
            "text/plain": [
              "               T          C\n",
              "count  10.000000  10.000000\n",
              "mean   27.655600  45.372600\n",
              "std    11.940307  17.729145\n",
              "min    12.411000  23.289000\n",
              "25%    20.286875  28.399000\n",
              "50%    21.302750  44.975000\n",
              "75%    38.014375  61.110000\n",
              "max    45.010000  71.365000"
            ]
          },
          "metadata": {
            "tags": []
          },
          "execution_count": 28
        }
      ]
    },
    {
      "cell_type": "markdown",
      "metadata": {
        "id": "N280Pw1cHOL4",
        "colab_type": "text"
      },
      "source": [
        "## Converting Data to Python Data Structures and Sorting"
      ]
    },
    {
      "cell_type": "code",
      "metadata": {
        "id": "06riCFaFit_5",
        "colab_type": "code",
        "colab": {}
      },
      "source": [
        "# Convert from data frame/column to list\n",
        "def df2list(col): # input is the name of the column\n",
        "  Column = pd.DataFrame(data, columns=[col])\n",
        "  list = Column.values.tolist()\n",
        "  list.sort()\n",
        "  List = []\n",
        "  for i in range(len(list)):\n",
        "    List.append(list[i][0])\n",
        "    i+=1\n",
        "  return List\n",
        "\n",
        "T_list = df2list(\"T\")"
      ],
      "execution_count": 0,
      "outputs": []
    },
    {
      "cell_type": "code",
      "metadata": {
        "id": "MWjJ0f24j7tA",
        "colab_type": "code",
        "colab": {}
      },
      "source": [
        "C_list = df2list(\"C\")"
      ],
      "execution_count": 0,
      "outputs": []
    },
    {
      "cell_type": "code",
      "metadata": {
        "id": "2RQ3J0aDl-aK",
        "colab_type": "code",
        "colab": {}
      },
      "source": [
        "# convert list to dictionary so that we can have key value pairs\n",
        "def list2dict(columnName, list):\n",
        "  dict = {columnName+str(i): list[i] for i in range(0, len(list))}\n",
        "  return dict\n"
      ],
      "execution_count": 0,
      "outputs": []
    },
    {
      "cell_type": "code",
      "metadata": {
        "id": "B-w0Dmm4psSp",
        "colab_type": "code",
        "outputId": "1ccbb83c-9197-4a14-bd56-2863a7bb2781",
        "colab": {
          "base_uri": "https://localhost:8080/",
          "height": 54
        }
      },
      "source": [
        "print(list2dict(\"T\", T_list))"
      ],
      "execution_count": 0,
      "outputs": [
        {
          "output_type": "stream",
          "text": [
            "{'T0': 12.411, 'T1': 17.8675, 'T2': 20.104, 'T3': 20.8355, 'T4': 21.0105, 'T5': 21.595, 'T6': 33.3025, 'T7': 39.585, 'T8': 44.835, 'T9': 45.01}\n"
          ],
          "name": "stdout"
        }
      ]
    },
    {
      "cell_type": "code",
      "metadata": {
        "id": "otXrVAhzrk19",
        "colab_type": "code",
        "outputId": "99dfd4ed-0b9d-4a6e-bdc9-1bd705a5071f",
        "colab": {
          "base_uri": "https://localhost:8080/",
          "height": 34
        }
      },
      "source": [
        "print(list2dict(\"C\", C_list))"
      ],
      "execution_count": 0,
      "outputs": [
        {
          "output_type": "stream",
          "text": [
            "{'C0': 23.289, 'C1': 25.69, 'C2': 25.732, 'C3': 36.4, 'C4': 44.415, 'C5': 45.535, 'C6': 51.135, 'C7': 64.435, 'C8': 65.73, 'C9': 71.365}\n"
          ],
          "name": "stdout"
        }
      ]
    },
    {
      "cell_type": "code",
      "metadata": {
        "id": "SG-leTrnrzrP",
        "colab_type": "code",
        "outputId": "b521741a-a70e-4f84-afe9-7a8b1ce5ce28",
        "colab": {
          "base_uri": "https://localhost:8080/",
          "height": 54
        }
      },
      "source": [
        "T_dict = list2dict(\"T\", T_list)\n",
        "C_dict = list2dict(\"C\", C_list)\n",
        "dict = {}\n",
        "dict.update(T_dict)\n",
        "dict.update(C_dict)\n",
        "\n",
        "def sortDict(dict):\n",
        "  tuple = sorted(dict.items(),  key=lambda x: x[1])\n",
        "  return tuple\n",
        "\n",
        "def sortedDict(dict):\n",
        "  sorted = []\n",
        "  for elem in sortDict(dict):\n",
        "    res = (elem[0], elem[1])\n",
        "    sorted.append(res)\n",
        "  return sorted \n",
        "\n",
        "print(sortedDict(dict))\n"
      ],
      "execution_count": 0,
      "outputs": [
        {
          "output_type": "stream",
          "text": [
            "[('T0', 12.411), ('T1', 17.8675), ('T2', 20.104), ('T3', 20.8355), ('T4', 21.0105), ('T5', 21.595), ('C0', 23.289), ('C1', 25.69), ('C2', 25.732), ('T6', 33.3025), ('C3', 36.4), ('T7', 39.585), ('C4', 44.415), ('T8', 44.835), ('T9', 45.01), ('C5', 45.535), ('C6', 51.135), ('C7', 64.435), ('C8', 65.73), ('C9', 71.365)]\n"
          ],
          "name": "stdout"
        }
      ]
    },
    {
      "cell_type": "code",
      "metadata": {
        "id": "dpwCI3Tgz0X3",
        "colab_type": "code",
        "outputId": "8fd04bf0-0d29-422a-cf11-9a7038fd6fba",
        "colab": {
          "base_uri": "https://localhost:8080/",
          "height": 357
        }
      },
      "source": [
        "s = sortedDict(dict)\n",
        "s"
      ],
      "execution_count": 0,
      "outputs": [
        {
          "output_type": "execute_result",
          "data": {
            "text/plain": [
              "[('T0', 12.411),\n",
              " ('T1', 17.8675),\n",
              " ('T2', 20.104),\n",
              " ('T3', 20.8355),\n",
              " ('T4', 21.0105),\n",
              " ('T5', 21.595),\n",
              " ('C0', 23.289),\n",
              " ('C1', 25.69),\n",
              " ('C2', 25.732),\n",
              " ('T6', 33.3025),\n",
              " ('C3', 36.4),\n",
              " ('T7', 39.585),\n",
              " ('C4', 44.415),\n",
              " ('T8', 44.835),\n",
              " ('T9', 45.01),\n",
              " ('C5', 45.535),\n",
              " ('C6', 51.135),\n",
              " ('C7', 64.435),\n",
              " ('C8', 65.73),\n",
              " ('C9', 71.365)]"
            ]
          },
          "metadata": {
            "tags": []
          },
          "execution_count": 35
        }
      ]
    },
    {
      "cell_type": "markdown",
      "metadata": {
        "id": "q31OKxsothL5",
        "colab_type": "text"
      },
      "source": [
        "## Mann-Whitney U Ranking:   \n",
        "### Algorithm\n",
        "```\n",
        "for i in (0, len(dict)):   \n",
        "  if key == \"C\":   \n",
        "    for j in range(i+1, len(dict)):    \n",
        "      if key == \"T\":    \n",
        "        count+=1\n",
        "        j+=1\n",
        "  elif key == \"T\":  \n",
        "    # ditto \n",
        "  i+=1\n",
        "  return count_i\n",
        "```\n"
      ]
    },
    {
      "cell_type": "markdown",
      "metadata": {
        "id": "SdLUBJyZAN8Q",
        "colab_type": "text"
      },
      "source": [
        "### Mann-Whitney U Ranking Code  \n",
        "Every Control gets one point for each Treatment below it  \n",
        "Every Treatment gets one point for each Control below it "
      ]
    },
    {
      "cell_type": "code",
      "metadata": {
        "id": "MMySoBJVyPpS",
        "colab_type": "code",
        "outputId": "f4d98800-0e73-4dc7-fc65-4804e9fe21f3",
        "colab": {
          "base_uri": "https://localhost:8080/",
          "height": 357
        }
      },
      "source": [
        "def rank(dict): \n",
        "  s = sortedDict(dict)\n",
        "  for i in range(0, len(dict)): # iterate through the entire list\n",
        "    count_i = 0\n",
        "    if s[i][0][0] == \"C\": # if it's Control\n",
        "      for j in range(i+1,len(dict)): # iterate through remaining items in the list\n",
        "        if s[j][0][0] == \"T\": # if the next one is Treatment, increment count\n",
        "          count_i += 1\n",
        "          j += 1  \n",
        "    elif s[i][0][0] == \"T\": # ditto\n",
        "      for k in range(i+1,len(dict)):\n",
        "        if s[k][0][0] == \"C\":\n",
        "          count_i += 1\n",
        "          k += 1\n",
        "    \n",
        "    print(s[i], count_i)\n",
        "    i+=1\n",
        "\n",
        "    \n",
        "# O(n^2) run time \n",
        "    \n",
        "rank(dict)"
      ],
      "execution_count": 0,
      "outputs": [
        {
          "output_type": "stream",
          "text": [
            "('T0', 12.411) 10\n",
            "('T1', 17.8675) 10\n",
            "('T2', 20.104) 10\n",
            "('T3', 20.8355) 10\n",
            "('T4', 21.0105) 10\n",
            "('T5', 21.595) 10\n",
            "('C0', 23.289) 4\n",
            "('C1', 25.69) 4\n",
            "('C2', 25.732) 4\n",
            "('T6', 33.3025) 7\n",
            "('C3', 36.4) 3\n",
            "('T7', 39.585) 6\n",
            "('C4', 44.415) 2\n",
            "('T8', 44.835) 5\n",
            "('T9', 45.01) 5\n",
            "('C5', 45.535) 0\n",
            "('C6', 51.135) 0\n",
            "('C7', 64.435) 0\n",
            "('C8', 65.73) 0\n",
            "('C9', 71.365) 0\n"
          ],
          "name": "stdout"
        }
      ]
    },
    {
      "cell_type": "markdown",
      "metadata": {
        "id": "7sFQ2t_OHpNI",
        "colab_type": "text"
      },
      "source": [
        "Add up the points for each group.  \n",
        "U Statistic is the smaller sum of C or T group.   \n",
        "In this case, it is C = 4+4+4+3+2=17. (< critical value of 23)  \n",
        "Reject null hypothesis!\n"
      ]
    },
    {
      "cell_type": "markdown",
      "metadata": {
        "id": "4-hPCMYtMUzt",
        "colab_type": "text"
      },
      "source": [
        "## Two-sample T-Test"
      ]
    },
    {
      "cell_type": "code",
      "metadata": {
        "id": "kn3k-9DeMxUT",
        "colab_type": "code",
        "colab": {}
      },
      "source": [
        "a = np.asarray(C_list)"
      ],
      "execution_count": 0,
      "outputs": []
    },
    {
      "cell_type": "code",
      "metadata": {
        "id": "d7efOHzDNjsZ",
        "colab_type": "code",
        "colab": {}
      },
      "source": [
        "b = np.asarray(T_list)"
      ],
      "execution_count": 0,
      "outputs": []
    },
    {
      "cell_type": "code",
      "metadata": {
        "id": "YAmRffsBLol6",
        "colab_type": "code",
        "outputId": "492b06eb-8dd1-4475-cc11-fcc43a017d3d",
        "colab": {
          "base_uri": "https://localhost:8080/",
          "height": 51
        }
      },
      "source": [
        "t, p = stats.ttest_ind(a,b)\n",
        "print(\"t = \" + str(t))\n",
        "print(\"p = \" + str(p))"
      ],
      "execution_count": 0,
      "outputs": [
        {
          "output_type": "stream",
          "text": [
            "t = 2.6210945681418423\n",
            "p = 0.017313373889138457\n"
          ],
          "name": "stdout"
        }
      ]
    },
    {
      "cell_type": "markdown",
      "metadata": {
        "id": "r385SD-8V5no",
        "colab_type": "text"
      },
      "source": [
        "With a 18 degree of freedom, the two-tailed P value equals 0.0173, meaning that there is only 1.73% probability that the results from the experiment happened by chance.   \n",
        "By conventional criteria (alpha=0.05), this t difference is considered to be statistically significant. "
      ]
    },
    {
      "cell_type": "markdown",
      "metadata": {
        "id": "MvTI-qbBk0dZ",
        "colab_type": "text"
      },
      "source": [
        "# Data Visualization   \n",
        "## Box Plot"
      ]
    },
    {
      "cell_type": "code",
      "metadata": {
        "id": "WJPjMAfexVwj",
        "colab_type": "code",
        "outputId": "165fd2f3-7352-4166-e217-e7cf1948ec48",
        "colab": {
          "base_uri": "https://localhost:8080/",
          "height": 282
        }
      },
      "source": [
        "df1 = pd.DataFrame(data, columns=['T',\t'C']) # You can create a dataframe by specifying the columns you want \n",
        "df1.boxplot()"
      ],
      "execution_count": 0,
      "outputs": [
        {
          "output_type": "execute_result",
          "data": {
            "text/plain": [
              "<matplotlib.axes._subplots.AxesSubplot at 0x7fd196cb4f98>"
            ]
          },
          "metadata": {
            "tags": []
          },
          "execution_count": 40
        },
        {
          "output_type": "display_data",
          "data": {
            "image/png": "[encoded data removed]",
            "text/plain": [
              "<Figure size 432x288 with 1 Axes>"
            ]
          },
          "metadata": {
            "tags": []
          }
        }
      ]
    },
    {
      "cell_type": "markdown",
      "metadata": {
        "id": "qo1n2gBFJPt1",
        "colab_type": "text"
      },
      "source": [
        "## Histogram"
      ]
    },
    {
      "cell_type": "code",
      "metadata": {
        "id": "dSqjYduWKMgO",
        "colab_type": "code",
        "outputId": "2380c460-5b31-4cbb-f7ae-3847c7a0ecc6",
        "colab": {
          "base_uri": "https://localhost:8080/",
          "height": 282
        }
      },
      "source": [
        "df1 = pd.DataFrame(data, columns=['T', 'C'])\n",
        "df1.plot.hist()"
      ],
      "execution_count": 0,
      "outputs": [
        {
          "output_type": "execute_result",
          "data": {
            "text/plain": [
              "<matplotlib.axes._subplots.AxesSubplot at 0x7fd1968592e8>"
            ]
          },
          "metadata": {
            "tags": []
          },
          "execution_count": 46
        },
        {
          "output_type": "display_data",
          "data": {
            "image/png": "[encoded data removed]",
            "text/plain": [
              "<Figure size 432x288 with 1 Axes>"
            ]
          },
          "metadata": {
            "tags": []
          }
        }
      ]
    },
    {
      "cell_type": "markdown",
      "metadata": {
        "id": "6xfqmzDmMsdI",
        "colab_type": "text"
      },
      "source": [
        "## Density plot"
      ]
    },
    {
      "cell_type": "code",
      "metadata": {
        "id": "_Y8852kpMn_s",
        "colab_type": "code",
        "outputId": "51270672-ad33-4fb3-fb2a-a30751bd8134",
        "colab": {
          "base_uri": "https://localhost:8080/",
          "height": 282
        }
      },
      "source": [
        "df1.plot.kde()"
      ],
      "execution_count": 0,
      "outputs": [
        {
          "output_type": "execute_result",
          "data": {
            "text/plain": [
              "<matplotlib.axes._subplots.AxesSubplot at 0x7fd1967f6208>"
            ]
          },
          "metadata": {
            "tags": []
          },
          "execution_count": 47
        },
        {
          "output_type": "display_data",
          "data": {
            "image/png": "[encoded data removed]",
            "text/plain": [
              "<Figure size 432x288 with 1 Axes>"
            ]
          },
          "metadata": {
            "tags": []
          }
        }
      ]
    },
    {
      "cell_type": "markdown",
      "metadata": {
        "id": "nc-QWGiJlJys",
        "colab_type": "text"
      },
      "source": [
        "## Bar Plot\n",
        "(for the mean)"
      ]
    },
    {
      "cell_type": "code",
      "metadata": {
        "id": "1rVwzvmvAfFK",
        "colab_type": "code",
        "outputId": "d3c6e4b4-d2ca-4242-f20d-3cdc1910b75e",
        "colab": {
          "base_uri": "https://localhost:8080/",
          "height": 279
        }
      },
      "source": [
        "df1 = df1.mean()\n",
        "df1.plot.bar()"
      ],
      "execution_count": 0,
      "outputs": [
        {
          "output_type": "execute_result",
          "data": {
            "text/plain": [
              "<matplotlib.axes._subplots.AxesSubplot at 0x7fd196bca2b0>"
            ]
          },
          "metadata": {
            "tags": []
          },
          "execution_count": 42
        },
        {
          "output_type": "display_data",
          "data": {
            "image/png": "[encoded data removed]",
            "text/plain": [
              "<Figure size 432x288 with 1 Axes>"
            ]
          },
          "metadata": {
            "tags": []
          }
        }
      ]
    },
    {
      "cell_type": "markdown",
      "metadata": {
        "id": "grNaLWaai30-",
        "colab_type": "text"
      },
      "source": [
        "For other plots, visit Pandas's documentation to see how to create them.   \n",
        "Documentation: https://pandas.pydata.org/pandas-docs/stable/user_guide/visualization.html"
      ]
    },
    {
      "cell_type": "markdown",
      "metadata": {
        "id": "dpt570-4hHgm",
        "colab_type": "text"
      },
      "source": [
        "\n",
        "\n",
        "---\n",
        "\n",
        "**Questions, comments, suggestions**:  \n",
        "Go to the Github page and open a new issue. https://github.com/ytyfeng/data-analysis/issues    \n",
        "\n",
        "\n",
        "\n",
        "\n",
        "© 2019 [Ty Feng](http://tyfeng.com/)"
      ]
    }
  ]
}